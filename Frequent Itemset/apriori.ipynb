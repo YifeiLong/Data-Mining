{
 "cells": [
  {
   "cell_type": "markdown",
   "source": [
    "# Apriori Algorithm"
   ],
   "metadata": {
    "collapsed": false
   }
  },
  {
   "cell_type": "code",
   "execution_count": 1,
   "outputs": [],
   "source": [
    "import pandas as pd\n",
    "from mlxtend.frequent_patterns import apriori\n",
    "from mlxtend.frequent_patterns import association_rules"
   ],
   "metadata": {
    "collapsed": false
   }
  },
  {
   "cell_type": "code",
   "execution_count": 2,
   "outputs": [
    {
     "name": "stdout",
     "output_type": "stream",
     "text": [
      "Number of samples: 1067371\n"
     ]
    }
   ],
   "source": [
    "# 读入原始数据集\n",
    "df1 = pd.read_excel('./retail.xlsx', sheet_name='Year 2009-2010')\n",
    "df2 = pd.read_excel('./retail.xlsx', sheet_name='Year 2010-2011')\n",
    "raw_data = pd.concat([df1, df2], ignore_index=True)\n",
    "print(f'Number of samples: {raw_data.shape[0]}')"
   ],
   "metadata": {
    "collapsed": false
   }
  },
  {
   "cell_type": "markdown",
   "source": [
    "## Data Preprocessing\n",
    "\n",
    "首先去除已经取消的订单（Invoice字段以C开头），然后去除代表邮费的订单（StockCode中包含POST字段）。"
   ],
   "metadata": {
    "collapsed": false
   }
  },
  {
   "cell_type": "code",
   "execution_count": 3,
   "outputs": [
    {
     "name": "stdout",
     "output_type": "stream",
     "text": [
      "Number of samples: 1045984\n"
     ]
    }
   ],
   "source": [
    "# 去除已取消订单；StockCode中的POST表示邮费，将其删除\n",
    "raw_data['Invoice'] = raw_data['Invoice'].astype(str)\n",
    "raw_data['StockCode'] = raw_data['StockCode'].astype(str)\n",
    "\n",
    "data1 = raw_data[~raw_data['Invoice'].str.startswith('C')]\n",
    "data1 = data1[~(data1['StockCode'] == 'POST')]\n",
    "\n",
    "print(f'Number of samples: {data1.shape[0]}')"
   ],
   "metadata": {
    "collapsed": false
   }
  },
  {
   "cell_type": "markdown",
   "source": [
    "接下来统计每个属性的缺失值数量，然后将含有缺失值的样本（行）删除。"
   ],
   "metadata": {
    "collapsed": false
   }
  },
  {
   "cell_type": "code",
   "execution_count": 4,
   "outputs": [
    {
     "name": "stdout",
     "output_type": "stream",
     "text": [
      "Invoice             0\n",
      "StockCode           0\n",
      "Description      4375\n",
      "Quantity            0\n",
      "InvoiceDate         0\n",
      "Price               0\n",
      "Customer ID    242202\n",
      "Country             0\n",
      "dtype: int64\n"
     ]
    }
   ],
   "source": [
    "# 统计每个属性缺失值数量，处理缺失值（丢弃）\n",
    "print(data1.isna().sum())"
   ],
   "metadata": {
    "collapsed": false
   }
  },
  {
   "cell_type": "code",
   "execution_count": 5,
   "outputs": [
    {
     "name": "stdout",
     "output_type": "stream",
     "text": [
      "Number of samples: 803782\n"
     ]
    }
   ],
   "source": [
    "data1 = data1.dropna()\n",
    "data1.reset_index(drop=True, inplace=True)\n",
    "print(f'Number of samples: {data1.shape[0]}')"
   ],
   "metadata": {
    "collapsed": false
   }
  },
  {
   "cell_type": "markdown",
   "source": [
    "由于StockCode和Description是一一对应的，因此这里删除所有不是一一对应的情况的商品所对应的行。"
   ],
   "metadata": {
    "collapsed": false
   }
  },
  {
   "cell_type": "code",
   "execution_count": 6,
   "outputs": [
    {
     "name": "stdout",
     "output_type": "stream",
     "text": [
      "Number of samples: 602841\n",
      "4006 3983\n"
     ]
    }
   ],
   "source": [
    "unique_count = data1.groupby('StockCode')['Description'].nunique()\n",
    "multi_stock = unique_count[unique_count > 1].index\n",
    "data1 = data1[~data1['StockCode'].isin(multi_stock)]\n",
    "data1.reset_index(drop=True, inplace=True)\n",
    "print(f'Number of samples: {data1.shape[0]}')\n",
    "print(data1.StockCode.nunique(), data1.Description.nunique())"
   ],
   "metadata": {
    "collapsed": false
   }
  },
  {
   "cell_type": "markdown",
   "source": [
    "最后替换异常值，统计Quantity和Price两个属性的1%和99%分位数的值，将小于1%分位数的值替换为1%分位数，将大于99%的值替换为99%分位数。"
   ],
   "metadata": {
    "collapsed": false
   }
  },
  {
   "cell_type": "code",
   "execution_count": 7,
   "outputs": [
    {
     "name": "stdout",
     "output_type": "stream",
     "text": [
      "quantity outlier: 4458, price outlier: 9938\n"
     ]
    },
    {
     "name": "stderr",
     "output_type": "stream",
     "text": [
      "C:\\Users\\86155\\AppData\\Local\\Temp\\ipykernel_16912\\2773048669.py:19: FutureWarning: Setting an item of incompatible dtype is deprecated and will raise an error in a future version of pandas. Value '358.5' has dtype incompatible with int64, please explicitly cast to a compatible dtype first.\n",
      "  data1.loc[i, 'Quantity'] = quantity_up\n"
     ]
    }
   ],
   "source": [
    "quantity_1 = data1['Quantity'].quantile(0.01)\n",
    "quantity_99 = data1['Quantity'].quantile(0.99)\n",
    "price_1 = data1['Price'].quantile(0.01)\n",
    "price_99 = data1['Price'].quantile(0.99)\n",
    "\n",
    "quantity_up = quantity_99 + 1.5 * (quantity_99 - quantity_1)\n",
    "quantity_low = quantity_1 - 1.5 * (quantity_99 - quantity_1)\n",
    "price_up = price_99 + 1.5 * (price_99 - price_1)\n",
    "price_low = price_1 - 1.5 * (price_99 - price_1)\n",
    "\n",
    "quantity_outlier = data1[(data1['Quantity'] < quantity_1) | (data1['Quantity'] > quantity_99)]\n",
    "price_outlier = data1[(data1['Price'] < price_1) | (data1['Price'] > price_99)]\n",
    "print(f'quantity outlier: {len(quantity_outlier)}, price outlier: {len(price_outlier)}')\n",
    "\n",
    "for i in quantity_outlier.index:\n",
    "    if data1.loc[i, 'Quantity'] <= quantity_1:\n",
    "        data1.loc[i, 'Quantity'] = quantity_low\n",
    "    else:\n",
    "        data1.loc[i, 'Quantity'] = quantity_up\n",
    "\n",
    "for i in price_outlier.index:\n",
    "    if data1.loc[i, 'Price'] <= price_1:\n",
    "        data1.loc[i, 'Price'] = price_low\n",
    "    else:\n",
    "        data1.loc[i, 'Price'] = price_up"
   ],
   "metadata": {
    "collapsed": false
   }
  },
  {
   "cell_type": "markdown",
   "source": [
    "## Preparing Invoice-Product Matrix for ARL Data Structure\n",
    "\n",
    "这里要将原始数据转化成适合进行关联规则分析的格式，即每行代表一笔交易，后面每一列为一种商品，在这笔交易中存在该商品，则该位置为1，否则为0。\n",
    "\n",
    "由于原始数据量过大，因此这里首先查看每个国家的数据总量，选择一个国家的数据进行关联规则分析（这里选择France）。"
   ],
   "metadata": {
    "collapsed": false
   }
  },
  {
   "cell_type": "code",
   "execution_count": 8,
   "outputs": [
    {
     "name": "stdout",
     "output_type": "stream",
     "text": [
      "Country\n",
      "United Kingdom          548514\n",
      "EIRE                     11788\n",
      "Germany                  10367\n",
      "France                    8719\n",
      "Netherlands               3347\n",
      "Spain                     2696\n",
      "Switzerland               2005\n",
      "Belgium                   1886\n",
      "Portugal                  1655\n",
      "Australia                 1223\n",
      "Channel Islands           1113\n",
      "Norway                    1103\n",
      "Italy                      986\n",
      "Sweden                     944\n",
      "Cyprus                     870\n",
      "Finland                    600\n",
      "Denmark                    578\n",
      "Austria                    569\n",
      "Greece                     518\n",
      "Poland                     412\n",
      "Unspecified                386\n",
      "Japan                      357\n",
      "United Arab Emirates       276\n",
      "USA                        271\n",
      "Singapore                  228\n",
      "Malta                      216\n",
      "Israel                     200\n",
      "Iceland                    199\n",
      "Lithuania                  163\n",
      "Canada                     161\n",
      "RSA                         85\n",
      "Brazil                      76\n",
      "Thailand                    63\n",
      "West Indies                 51\n",
      "Bahrain                     50\n",
      "Korea                       47\n",
      "European Community          36\n",
      "Lebanon                     34\n",
      "Nigeria                     24\n",
      "Czech Republic              17\n",
      "Saudi Arabia                 8\n",
      "Name: count, dtype: int64\n"
     ]
    }
   ],
   "source": [
    "# 每个国家数据量\n",
    "country_counts = data1['Country'].value_counts()\n",
    "print(country_counts)"
   ],
   "metadata": {
    "collapsed": false
   }
  },
  {
   "cell_type": "code",
   "execution_count": 9,
   "outputs": [
    {
     "name": "stdout",
     "output_type": "stream",
     "text": [
      "(8719, 8)\n"
     ]
    }
   ],
   "source": [
    "# 提取出法国数据\n",
    "data_fr = data1[data1['Country'] == 'France']\n",
    "print(data_fr.shape)"
   ],
   "metadata": {
    "collapsed": false
   }
  },
  {
   "cell_type": "code",
   "execution_count": 10,
   "outputs": [
    {
     "data": {
      "text/plain": "StockCode  10002  10120  10123C  10123G  10125  10135  11001  15036  15039  \\\nInvoice                                                                      \n489439       0.0    0.0     0.0     0.0    0.0    0.0    0.0    0.0    0.0   \n489557       0.0    0.0     0.0     0.0    0.0    0.0    0.0    0.0    0.0   \n489883       0.0    0.0     0.0     0.0    0.0    0.0    0.0    0.0    0.0   \n490139       0.0    0.0     0.0     0.0    0.0    0.0    0.0    0.0    0.0   \n490152       0.0    0.0     0.0     0.0    0.0    0.0    0.0    0.0    0.0   \n\nStockCode  15044C  ...  90184C  90201B  90201C  90209A  90214C  90214E  \\\nInvoice            ...                                                   \n489439        0.0  ...     0.0     0.0     0.0     0.0     0.0     0.0   \n489557        0.0  ...     0.0     0.0     0.0     0.0     0.0     0.0   \n489883        0.0  ...     0.0     0.0     0.0     0.0     0.0     0.0   \n490139        0.0  ...     0.0     0.0     0.0     0.0     0.0     0.0   \n490152        0.0  ...     0.0     0.0     0.0     0.0     0.0     0.0   \n\nStockCode  90214L  90214S   C2    M  \nInvoice                              \n489439        0.0     0.0  0.0  0.0  \n489557        0.0     0.0  0.0  0.0  \n489883        0.0     0.0  0.0  0.0  \n490139        0.0     0.0  0.0  0.0  \n490152        0.0     0.0  0.0  0.0  \n\n[5 rows x 1575 columns]",
      "text/html": "<div>\n<style scoped>\n    .dataframe tbody tr th:only-of-type {\n        vertical-align: middle;\n    }\n\n    .dataframe tbody tr th {\n        vertical-align: top;\n    }\n\n    .dataframe thead th {\n        text-align: right;\n    }\n</style>\n<table border=\"1\" class=\"dataframe\">\n  <thead>\n    <tr style=\"text-align: right;\">\n      <th>StockCode</th>\n      <th>10002</th>\n      <th>10120</th>\n      <th>10123C</th>\n      <th>10123G</th>\n      <th>10125</th>\n      <th>10135</th>\n      <th>11001</th>\n      <th>15036</th>\n      <th>15039</th>\n      <th>15044C</th>\n      <th>...</th>\n      <th>90184C</th>\n      <th>90201B</th>\n      <th>90201C</th>\n      <th>90209A</th>\n      <th>90214C</th>\n      <th>90214E</th>\n      <th>90214L</th>\n      <th>90214S</th>\n      <th>C2</th>\n      <th>M</th>\n    </tr>\n    <tr>\n      <th>Invoice</th>\n      <th></th>\n      <th></th>\n      <th></th>\n      <th></th>\n      <th></th>\n      <th></th>\n      <th></th>\n      <th></th>\n      <th></th>\n      <th></th>\n      <th></th>\n      <th></th>\n      <th></th>\n      <th></th>\n      <th></th>\n      <th></th>\n      <th></th>\n      <th></th>\n      <th></th>\n      <th></th>\n      <th></th>\n    </tr>\n  </thead>\n  <tbody>\n    <tr>\n      <th>489439</th>\n      <td>0.0</td>\n      <td>0.0</td>\n      <td>0.0</td>\n      <td>0.0</td>\n      <td>0.0</td>\n      <td>0.0</td>\n      <td>0.0</td>\n      <td>0.0</td>\n      <td>0.0</td>\n      <td>0.0</td>\n      <td>...</td>\n      <td>0.0</td>\n      <td>0.0</td>\n      <td>0.0</td>\n      <td>0.0</td>\n      <td>0.0</td>\n      <td>0.0</td>\n      <td>0.0</td>\n      <td>0.0</td>\n      <td>0.0</td>\n      <td>0.0</td>\n    </tr>\n    <tr>\n      <th>489557</th>\n      <td>0.0</td>\n      <td>0.0</td>\n      <td>0.0</td>\n      <td>0.0</td>\n      <td>0.0</td>\n      <td>0.0</td>\n      <td>0.0</td>\n      <td>0.0</td>\n      <td>0.0</td>\n      <td>0.0</td>\n      <td>...</td>\n      <td>0.0</td>\n      <td>0.0</td>\n      <td>0.0</td>\n      <td>0.0</td>\n      <td>0.0</td>\n      <td>0.0</td>\n      <td>0.0</td>\n      <td>0.0</td>\n      <td>0.0</td>\n      <td>0.0</td>\n    </tr>\n    <tr>\n      <th>489883</th>\n      <td>0.0</td>\n      <td>0.0</td>\n      <td>0.0</td>\n      <td>0.0</td>\n      <td>0.0</td>\n      <td>0.0</td>\n      <td>0.0</td>\n      <td>0.0</td>\n      <td>0.0</td>\n      <td>0.0</td>\n      <td>...</td>\n      <td>0.0</td>\n      <td>0.0</td>\n      <td>0.0</td>\n      <td>0.0</td>\n      <td>0.0</td>\n      <td>0.0</td>\n      <td>0.0</td>\n      <td>0.0</td>\n      <td>0.0</td>\n      <td>0.0</td>\n    </tr>\n    <tr>\n      <th>490139</th>\n      <td>0.0</td>\n      <td>0.0</td>\n      <td>0.0</td>\n      <td>0.0</td>\n      <td>0.0</td>\n      <td>0.0</td>\n      <td>0.0</td>\n      <td>0.0</td>\n      <td>0.0</td>\n      <td>0.0</td>\n      <td>...</td>\n      <td>0.0</td>\n      <td>0.0</td>\n      <td>0.0</td>\n      <td>0.0</td>\n      <td>0.0</td>\n      <td>0.0</td>\n      <td>0.0</td>\n      <td>0.0</td>\n      <td>0.0</td>\n      <td>0.0</td>\n    </tr>\n    <tr>\n      <th>490152</th>\n      <td>0.0</td>\n      <td>0.0</td>\n      <td>0.0</td>\n      <td>0.0</td>\n      <td>0.0</td>\n      <td>0.0</td>\n      <td>0.0</td>\n      <td>0.0</td>\n      <td>0.0</td>\n      <td>0.0</td>\n      <td>...</td>\n      <td>0.0</td>\n      <td>0.0</td>\n      <td>0.0</td>\n      <td>0.0</td>\n      <td>0.0</td>\n      <td>0.0</td>\n      <td>0.0</td>\n      <td>0.0</td>\n      <td>0.0</td>\n      <td>0.0</td>\n    </tr>\n  </tbody>\n</table>\n<p>5 rows × 1575 columns</p>\n</div>"
     },
     "execution_count": 10,
     "metadata": {},
     "output_type": "execute_result"
    }
   ],
   "source": [
    "# 格式转化\n",
    "basket = data_fr.groupby(['Invoice', 'StockCode'])['Quantity'].sum().unstack().reset_index().fillna(0)\n",
    "basket = basket.set_index('Invoice')\n",
    "basket[basket > 0] = 1\n",
    "basket.head()"
   ],
   "metadata": {
    "collapsed": false
   }
  },
  {
   "cell_type": "markdown",
   "source": [
    "## Determination of Association Rules\n",
    "\n",
    "以法国为例，设置最小支持度为0.01，然后调用 `mlxtend.frequent_patterns` 中的 `apriori` 筛选出满足 `min_support` 的频繁项集及其对应支持度。"
   ],
   "metadata": {
    "collapsed": false
   }
  },
  {
   "cell_type": "code",
   "execution_count": 11,
   "outputs": [
    {
     "name": "stderr",
     "output_type": "stream",
     "text": [
      "D:\\Anaconda\\envs\\env\\lib\\site-packages\\mlxtend\\frequent_patterns\\fpcommon.py:109: DeprecationWarning: DataFrames with non-bool types result in worse computationalperformance and their support might be discontinued in the future.Please use a DataFrame with bool type\n",
      "  warnings.warn(\n"
     ]
    },
    {
     "name": "stdout",
     "output_type": "stream",
     "text": [
      "2900\n"
     ]
    }
   ],
   "source": [
    "# 计算support values，min_support设置为0.01\n",
    "freq_set = apriori(basket, min_support=0.01, use_colnames=True)\n",
    "print(freq_set.shape[0])"
   ],
   "metadata": {
    "collapsed": false
   }
  },
  {
   "cell_type": "code",
   "execution_count": 12,
   "outputs": [
    {
     "data": {
      "text/plain": "    support   itemsets\n0  0.052632    (10002)\n1  0.010187    (10125)\n2  0.061121  (15056BL)\n3  0.033956   (15056N)\n4  0.016978   (15056P)",
      "text/html": "<div>\n<style scoped>\n    .dataframe tbody tr th:only-of-type {\n        vertical-align: middle;\n    }\n\n    .dataframe tbody tr th {\n        vertical-align: top;\n    }\n\n    .dataframe thead th {\n        text-align: right;\n    }\n</style>\n<table border=\"1\" class=\"dataframe\">\n  <thead>\n    <tr style=\"text-align: right;\">\n      <th></th>\n      <th>support</th>\n      <th>itemsets</th>\n    </tr>\n  </thead>\n  <tbody>\n    <tr>\n      <th>0</th>\n      <td>0.052632</td>\n      <td>(10002)</td>\n    </tr>\n    <tr>\n      <th>1</th>\n      <td>0.010187</td>\n      <td>(10125)</td>\n    </tr>\n    <tr>\n      <th>2</th>\n      <td>0.061121</td>\n      <td>(15056BL)</td>\n    </tr>\n    <tr>\n      <th>3</th>\n      <td>0.033956</td>\n      <td>(15056N)</td>\n    </tr>\n    <tr>\n      <th>4</th>\n      <td>0.016978</td>\n      <td>(15056P)</td>\n    </tr>\n  </tbody>\n</table>\n</div>"
     },
     "execution_count": 12,
     "metadata": {},
     "output_type": "execute_result"
    }
   ],
   "source": [
    "freq_set.head()"
   ],
   "metadata": {
    "collapsed": false
   }
  },
  {
   "cell_type": "markdown",
   "source": [
    "接下来调用 `mlxtend.frequent_patterns` 中的 `association_rules`，从刚刚的频繁项集中生成关联规则，最小支持度阈值设置为0.01，然后按照支持度降序排列，输出支持度最高的前5个关联规则。"
   ],
   "metadata": {
    "collapsed": false
   }
  },
  {
   "cell_type": "code",
   "execution_count": 13,
   "outputs": [
    {
     "data": {
      "text/plain": "  antecedents consequents  antecedent support  consequent support   support  \\\n0     (20749)     (10002)            0.088285            0.052632  0.011885   \n1     (10002)     (20749)            0.052632            0.088285  0.011885   \n2     (21731)     (10002)            0.219015            0.052632  0.011885   \n3     (10002)     (21731)            0.052632            0.219015  0.011885   \n4     (21791)     (10002)            0.049236            0.052632  0.011885   \n\n   confidence      lift  leverage  conviction  zhangs_metric  \n0    0.134615  2.557692  0.007238    1.094737       0.667997  \n1    0.225806  2.557692  0.007238    1.177632       0.642857  \n2    0.054264  1.031008  0.000357    1.001726       0.038509  \n3    0.225806  1.031008  0.000357    1.008772       0.031746  \n4    0.241379  4.586207  0.009293    1.248804       0.822449  ",
      "text/html": "<div>\n<style scoped>\n    .dataframe tbody tr th:only-of-type {\n        vertical-align: middle;\n    }\n\n    .dataframe tbody tr th {\n        vertical-align: top;\n    }\n\n    .dataframe thead th {\n        text-align: right;\n    }\n</style>\n<table border=\"1\" class=\"dataframe\">\n  <thead>\n    <tr style=\"text-align: right;\">\n      <th></th>\n      <th>antecedents</th>\n      <th>consequents</th>\n      <th>antecedent support</th>\n      <th>consequent support</th>\n      <th>support</th>\n      <th>confidence</th>\n      <th>lift</th>\n      <th>leverage</th>\n      <th>conviction</th>\n      <th>zhangs_metric</th>\n    </tr>\n  </thead>\n  <tbody>\n    <tr>\n      <th>0</th>\n      <td>(20749)</td>\n      <td>(10002)</td>\n      <td>0.088285</td>\n      <td>0.052632</td>\n      <td>0.011885</td>\n      <td>0.134615</td>\n      <td>2.557692</td>\n      <td>0.007238</td>\n      <td>1.094737</td>\n      <td>0.667997</td>\n    </tr>\n    <tr>\n      <th>1</th>\n      <td>(10002)</td>\n      <td>(20749)</td>\n      <td>0.052632</td>\n      <td>0.088285</td>\n      <td>0.011885</td>\n      <td>0.225806</td>\n      <td>2.557692</td>\n      <td>0.007238</td>\n      <td>1.177632</td>\n      <td>0.642857</td>\n    </tr>\n    <tr>\n      <th>2</th>\n      <td>(21731)</td>\n      <td>(10002)</td>\n      <td>0.219015</td>\n      <td>0.052632</td>\n      <td>0.011885</td>\n      <td>0.054264</td>\n      <td>1.031008</td>\n      <td>0.000357</td>\n      <td>1.001726</td>\n      <td>0.038509</td>\n    </tr>\n    <tr>\n      <th>3</th>\n      <td>(10002)</td>\n      <td>(21731)</td>\n      <td>0.052632</td>\n      <td>0.219015</td>\n      <td>0.011885</td>\n      <td>0.225806</td>\n      <td>1.031008</td>\n      <td>0.000357</td>\n      <td>1.008772</td>\n      <td>0.031746</td>\n    </tr>\n    <tr>\n      <th>4</th>\n      <td>(21791)</td>\n      <td>(10002)</td>\n      <td>0.049236</td>\n      <td>0.052632</td>\n      <td>0.011885</td>\n      <td>0.241379</td>\n      <td>4.586207</td>\n      <td>0.009293</td>\n      <td>1.248804</td>\n      <td>0.822449</td>\n    </tr>\n  </tbody>\n</table>\n</div>"
     },
     "execution_count": 13,
     "metadata": {},
     "output_type": "execute_result"
    }
   ],
   "source": [
    "# 从频繁项集中生成关联规则，评估关联规则的指标为support，最小支持度阈值为0.01\n",
    "rule = association_rules(freq_set, metric='support', min_threshold=0.01)\n",
    "rule.head()"
   ],
   "metadata": {
    "collapsed": false
   }
  },
  {
   "cell_type": "markdown",
   "source": [
    "这里查看支持度前五高的关联规则，其中antecendents是前项，consequents是后项，这两项共同组成关联规则。\n",
    "\n",
    "例如，一个关联规则可以表示为：{A, B} -> {C}，其中{A, B}是前项，{C}是后项。"
   ],
   "metadata": {
    "collapsed": false
   }
  },
  {
   "cell_type": "code",
   "execution_count": 14,
   "outputs": [
    {
     "data": {
      "text/plain": "     antecedents consequents  antecedent support  consequent support  \\\n423      (21086)     (21094)            0.144312            0.132428   \n422      (21094)     (21086)            0.132428            0.144312   \n1556     (22556)     (22554)            0.176570            0.164686   \n1557     (22554)     (22556)            0.164686            0.176570   \n1439     (22554)     (22551)            0.164686            0.134126   \n\n       support  confidence      lift  leverage  conviction  zhangs_metric  \n423   0.120543    0.835294  6.307541  0.101432    5.267402       0.983372  \n422   0.120543    0.910256  6.307541  0.101432    9.534805       0.969902  \n1556  0.106961    0.605769  3.678331  0.077882    2.118846       0.884274  \n1557  0.106961    0.649485  3.678331  0.077882    2.349196       0.871693  \n1439  0.096774    0.587629  4.381182  0.074686    2.099745       0.923905  ",
      "text/html": "<div>\n<style scoped>\n    .dataframe tbody tr th:only-of-type {\n        vertical-align: middle;\n    }\n\n    .dataframe tbody tr th {\n        vertical-align: top;\n    }\n\n    .dataframe thead th {\n        text-align: right;\n    }\n</style>\n<table border=\"1\" class=\"dataframe\">\n  <thead>\n    <tr style=\"text-align: right;\">\n      <th></th>\n      <th>antecedents</th>\n      <th>consequents</th>\n      <th>antecedent support</th>\n      <th>consequent support</th>\n      <th>support</th>\n      <th>confidence</th>\n      <th>lift</th>\n      <th>leverage</th>\n      <th>conviction</th>\n      <th>zhangs_metric</th>\n    </tr>\n  </thead>\n  <tbody>\n    <tr>\n      <th>423</th>\n      <td>(21086)</td>\n      <td>(21094)</td>\n      <td>0.144312</td>\n      <td>0.132428</td>\n      <td>0.120543</td>\n      <td>0.835294</td>\n      <td>6.307541</td>\n      <td>0.101432</td>\n      <td>5.267402</td>\n      <td>0.983372</td>\n    </tr>\n    <tr>\n      <th>422</th>\n      <td>(21094)</td>\n      <td>(21086)</td>\n      <td>0.132428</td>\n      <td>0.144312</td>\n      <td>0.120543</td>\n      <td>0.910256</td>\n      <td>6.307541</td>\n      <td>0.101432</td>\n      <td>9.534805</td>\n      <td>0.969902</td>\n    </tr>\n    <tr>\n      <th>1556</th>\n      <td>(22556)</td>\n      <td>(22554)</td>\n      <td>0.176570</td>\n      <td>0.164686</td>\n      <td>0.106961</td>\n      <td>0.605769</td>\n      <td>3.678331</td>\n      <td>0.077882</td>\n      <td>2.118846</td>\n      <td>0.884274</td>\n    </tr>\n    <tr>\n      <th>1557</th>\n      <td>(22554)</td>\n      <td>(22556)</td>\n      <td>0.164686</td>\n      <td>0.176570</td>\n      <td>0.106961</td>\n      <td>0.649485</td>\n      <td>3.678331</td>\n      <td>0.077882</td>\n      <td>2.349196</td>\n      <td>0.871693</td>\n    </tr>\n    <tr>\n      <th>1439</th>\n      <td>(22554)</td>\n      <td>(22551)</td>\n      <td>0.164686</td>\n      <td>0.134126</td>\n      <td>0.096774</td>\n      <td>0.587629</td>\n      <td>4.381182</td>\n      <td>0.074686</td>\n      <td>2.099745</td>\n      <td>0.923905</td>\n    </tr>\n  </tbody>\n</table>\n</div>"
     },
     "execution_count": 14,
     "metadata": {},
     "output_type": "execute_result"
    }
   ],
   "source": [
    "# 查看支持度最高的前五个关联规则\n",
    "top5_rule = rule.sort_values(by='support', ascending=False).head(5)\n",
    "top5_rule"
   ],
   "metadata": {
    "collapsed": false
   }
  }
 ],
 "metadata": {
  "kernelspec": {
   "display_name": "Python 3",
   "language": "python",
   "name": "python3"
  },
  "language_info": {
   "codemirror_mode": {
    "name": "ipython",
    "version": 2
   },
   "file_extension": ".py",
   "mimetype": "text/x-python",
   "name": "python",
   "nbconvert_exporter": "python",
   "pygments_lexer": "ipython2",
   "version": "2.7.6"
  }
 },
 "nbformat": 4,
 "nbformat_minor": 0
}
